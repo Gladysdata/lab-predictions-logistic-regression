{
 "cells": [
  {
   "cell_type": "code",
   "execution_count": 1,
   "id": "421f20d1",
   "metadata": {},
   "outputs": [
    {
     "name": "stdout",
     "output_type": "stream",
     "text": [
      "········\n"
     ]
    }
   ],
   "source": [
    "import pymysql\n",
    "from sqlalchemy import create_engine\n",
    "import pandas as pd\n",
    "import numpy as np\n",
    "import matplotlib.pyplot as plt\n",
    "import seaborn as sns\n",
    "%matplotlib inline\n",
    "\n",
    "from sklearn.preprocessing import Normalizer\n",
    "from sklearn.preprocessing import StandardScaler\n",
    "from sklearn.model_selection import train_test_split\n",
    "from sklearn.linear_model import LogisticRegression\n",
    "from sklearn.metrics import accuracy_score\n",
    "from sklearn.metrics import confusion_matrix\n",
    "from sklearn.linear_model import LinearRegression\n",
    "from sklearn.preprocessing import LabelEncoder\n",
    "\n",
    "import getpass  # To get the password without showing the input\n",
    "password = getpass.getpass()"
   ]
  },
  {
   "cell_type": "code",
   "execution_count": 2,
   "id": "770b3ff5",
   "metadata": {},
   "outputs": [],
   "source": [
    "connection_string = 'mysql+pymysql://root:' + password + '@localhost/bank'\n",
    "engine = create_engine(connection_string)"
   ]
  },
  {
   "cell_type": "code",
   "execution_count": 3,
   "id": "341706d4",
   "metadata": {},
   "outputs": [
    {
     "data": {
      "text/plain": [
       "<sqlalchemy.engine.cursor.LegacyCursorResult at 0x25dccc7ca60>"
      ]
     },
     "execution_count": 3,
     "metadata": {},
     "output_type": "execute_result"
    }
   ],
   "source": [
    "engine.execute(\"USE sakila\")"
   ]
  },
  {
   "cell_type": "code",
   "execution_count": 6,
   "id": "e74b23e5",
   "metadata": {},
   "outputs": [],
   "source": [
    "query = '''select name, title, rental_duration, rental_rate, length, replacement_cost, rating, special_features\n",
    "from film_category\n",
    "join category using (category_id)\n",
    "join film using (film_id)\n",
    "where category_id in (15,9,8,6)\n",
    ";'''\n"
   ]
  },
  {
   "cell_type": "code",
   "execution_count": 7,
   "id": "6a23d8ff",
   "metadata": {},
   "outputs": [
    {
     "data": {
      "text/html": [
       "<div>\n",
       "<style scoped>\n",
       "    .dataframe tbody tr th:only-of-type {\n",
       "        vertical-align: middle;\n",
       "    }\n",
       "\n",
       "    .dataframe tbody tr th {\n",
       "        vertical-align: top;\n",
       "    }\n",
       "\n",
       "    .dataframe thead th {\n",
       "        text-align: right;\n",
       "    }\n",
       "</style>\n",
       "<table border=\"1\" class=\"dataframe\">\n",
       "  <thead>\n",
       "    <tr style=\"text-align: right;\">\n",
       "      <th></th>\n",
       "      <th>name</th>\n",
       "      <th>title</th>\n",
       "      <th>rental_duration</th>\n",
       "      <th>rental_rate</th>\n",
       "      <th>length</th>\n",
       "      <th>replacement_cost</th>\n",
       "      <th>rating</th>\n",
       "      <th>special_features</th>\n",
       "    </tr>\n",
       "  </thead>\n",
       "  <tbody>\n",
       "    <tr>\n",
       "      <th>0</th>\n",
       "      <td>Documentary</td>\n",
       "      <td>ACADEMY DINOSAUR</td>\n",
       "      <td>6</td>\n",
       "      <td>0.99</td>\n",
       "      <td>86</td>\n",
       "      <td>20.99</td>\n",
       "      <td>PG</td>\n",
       "      <td>Deleted Scenes,Behind the Scenes</td>\n",
       "    </tr>\n",
       "    <tr>\n",
       "      <th>1</th>\n",
       "      <td>Documentary</td>\n",
       "      <td>ADAPTATION HOLES</td>\n",
       "      <td>7</td>\n",
       "      <td>2.99</td>\n",
       "      <td>50</td>\n",
       "      <td>18.99</td>\n",
       "      <td>NC-17</td>\n",
       "      <td>Trailers,Deleted Scenes</td>\n",
       "    </tr>\n",
       "    <tr>\n",
       "      <th>2</th>\n",
       "      <td>Documentary</td>\n",
       "      <td>ARMY FLINTSTONES</td>\n",
       "      <td>4</td>\n",
       "      <td>0.99</td>\n",
       "      <td>148</td>\n",
       "      <td>22.99</td>\n",
       "      <td>R</td>\n",
       "      <td>Trailers,Commentaries</td>\n",
       "    </tr>\n",
       "    <tr>\n",
       "      <th>3</th>\n",
       "      <td>Documentary</td>\n",
       "      <td>BEACH HEARTBREAKERS</td>\n",
       "      <td>6</td>\n",
       "      <td>2.99</td>\n",
       "      <td>122</td>\n",
       "      <td>16.99</td>\n",
       "      <td>G</td>\n",
       "      <td>Deleted Scenes,Behind the Scenes</td>\n",
       "    </tr>\n",
       "    <tr>\n",
       "      <th>4</th>\n",
       "      <td>Documentary</td>\n",
       "      <td>BED HIGHBALL</td>\n",
       "      <td>5</td>\n",
       "      <td>2.99</td>\n",
       "      <td>106</td>\n",
       "      <td>23.99</td>\n",
       "      <td>NC-17</td>\n",
       "      <td>Trailers,Commentaries,Deleted Scenes</td>\n",
       "    </tr>\n",
       "    <tr>\n",
       "      <th>...</th>\n",
       "      <td>...</td>\n",
       "      <td>...</td>\n",
       "      <td>...</td>\n",
       "      <td>...</td>\n",
       "      <td>...</td>\n",
       "      <td>...</td>\n",
       "      <td>...</td>\n",
       "      <td>...</td>\n",
       "    </tr>\n",
       "    <tr>\n",
       "      <th>279</th>\n",
       "      <td>Sports</td>\n",
       "      <td>TIGHTS DAWN</td>\n",
       "      <td>5</td>\n",
       "      <td>0.99</td>\n",
       "      <td>172</td>\n",
       "      <td>14.99</td>\n",
       "      <td>R</td>\n",
       "      <td>Trailers,Behind the Scenes</td>\n",
       "    </tr>\n",
       "    <tr>\n",
       "      <th>280</th>\n",
       "      <td>Sports</td>\n",
       "      <td>TOURIST PELICAN</td>\n",
       "      <td>4</td>\n",
       "      <td>4.99</td>\n",
       "      <td>152</td>\n",
       "      <td>18.99</td>\n",
       "      <td>PG-13</td>\n",
       "      <td>Deleted Scenes</td>\n",
       "    </tr>\n",
       "    <tr>\n",
       "      <th>281</th>\n",
       "      <td>Sports</td>\n",
       "      <td>TRADING PINOCCHIO</td>\n",
       "      <td>6</td>\n",
       "      <td>4.99</td>\n",
       "      <td>170</td>\n",
       "      <td>22.99</td>\n",
       "      <td>PG</td>\n",
       "      <td>Trailers,Deleted Scenes,Behind the Scenes</td>\n",
       "    </tr>\n",
       "    <tr>\n",
       "      <th>282</th>\n",
       "      <td>Sports</td>\n",
       "      <td>TUXEDO MILE</td>\n",
       "      <td>3</td>\n",
       "      <td>2.99</td>\n",
       "      <td>152</td>\n",
       "      <td>24.99</td>\n",
       "      <td>R</td>\n",
       "      <td>Commentaries,Deleted Scenes,Behind the Scenes</td>\n",
       "    </tr>\n",
       "    <tr>\n",
       "      <th>283</th>\n",
       "      <td>Sports</td>\n",
       "      <td>VICTORY ACADEMY</td>\n",
       "      <td>6</td>\n",
       "      <td>0.99</td>\n",
       "      <td>64</td>\n",
       "      <td>19.99</td>\n",
       "      <td>PG-13</td>\n",
       "      <td>Trailers,Behind the Scenes</td>\n",
       "    </tr>\n",
       "  </tbody>\n",
       "</table>\n",
       "<p>284 rows × 8 columns</p>\n",
       "</div>"
      ],
      "text/plain": [
       "            name                title  rental_duration  rental_rate  length  \\\n",
       "0    Documentary     ACADEMY DINOSAUR                6         0.99      86   \n",
       "1    Documentary     ADAPTATION HOLES                7         2.99      50   \n",
       "2    Documentary     ARMY FLINTSTONES                4         0.99     148   \n",
       "3    Documentary  BEACH HEARTBREAKERS                6         2.99     122   \n",
       "4    Documentary         BED HIGHBALL                5         2.99     106   \n",
       "..           ...                  ...              ...          ...     ...   \n",
       "279       Sports          TIGHTS DAWN                5         0.99     172   \n",
       "280       Sports      TOURIST PELICAN                4         4.99     152   \n",
       "281       Sports    TRADING PINOCCHIO                6         4.99     170   \n",
       "282       Sports          TUXEDO MILE                3         2.99     152   \n",
       "283       Sports      VICTORY ACADEMY                6         0.99      64   \n",
       "\n",
       "     replacement_cost rating                               special_features  \n",
       "0               20.99     PG               Deleted Scenes,Behind the Scenes  \n",
       "1               18.99  NC-17                        Trailers,Deleted Scenes  \n",
       "2               22.99      R                          Trailers,Commentaries  \n",
       "3               16.99      G               Deleted Scenes,Behind the Scenes  \n",
       "4               23.99  NC-17           Trailers,Commentaries,Deleted Scenes  \n",
       "..                ...    ...                                            ...  \n",
       "279             14.99      R                     Trailers,Behind the Scenes  \n",
       "280             18.99  PG-13                                 Deleted Scenes  \n",
       "281             22.99     PG      Trailers,Deleted Scenes,Behind the Scenes  \n",
       "282             24.99      R  Commentaries,Deleted Scenes,Behind the Scenes  \n",
       "283             19.99  PG-13                     Trailers,Behind the Scenes  \n",
       "\n",
       "[284 rows x 8 columns]"
      ]
     },
     "execution_count": 7,
     "metadata": {},
     "output_type": "execute_result"
    }
   ],
   "source": [
    "data = pd.read_sql_query(query, engine)\n",
    "data"
   ]
  },
  {
   "cell_type": "markdown",
   "id": "96eb9fcf",
   "metadata": {},
   "source": [
    "**In order to optimize our inventory, we would like to know which films will be rented next month and we are asked to create a model to predict it. Let's explore and use the data !**"
   ]
  },
  {
   "cell_type": "code",
   "execution_count": 10,
   "id": "e94b59e6",
   "metadata": {},
   "outputs": [
    {
     "data": {
      "text/plain": [
       "name                 object\n",
       "title                object\n",
       "rental_duration       int64\n",
       "rental_rate         float64\n",
       "length                int64\n",
       "replacement_cost    float64\n",
       "rating               object\n",
       "special_features     object\n",
       "dtype: object"
      ]
     },
     "execution_count": 10,
     "metadata": {},
     "output_type": "execute_result"
    }
   ],
   "source": [
    "data.dtypes"
   ]
  },
  {
   "cell_type": "code",
   "execution_count": 11,
   "id": "d3b82379",
   "metadata": {},
   "outputs": [
    {
     "data": {
      "text/plain": [
       "name                0\n",
       "title               0\n",
       "rental_duration     0\n",
       "rental_rate         0\n",
       "length              0\n",
       "replacement_cost    0\n",
       "rating              0\n",
       "special_features    0\n",
       "dtype: int64"
      ]
     },
     "execution_count": 11,
     "metadata": {},
     "output_type": "execute_result"
    }
   ],
   "source": [
    "data.isna().sum()"
   ]
  },
  {
   "cell_type": "code",
   "execution_count": 12,
   "id": "6fefef89",
   "metadata": {},
   "outputs": [
    {
     "name": "stdout",
     "output_type": "stream",
     "text": [
      "<class 'pandas.core.frame.DataFrame'>\n",
      "RangeIndex: 284 entries, 0 to 283\n",
      "Data columns (total 8 columns):\n",
      " #   Column            Non-Null Count  Dtype  \n",
      "---  ------            --------------  -----  \n",
      " 0   name              284 non-null    object \n",
      " 1   title             284 non-null    object \n",
      " 2   rental_duration   284 non-null    int64  \n",
      " 3   rental_rate       284 non-null    float64\n",
      " 4   length            284 non-null    int64  \n",
      " 5   replacement_cost  284 non-null    float64\n",
      " 6   rating            284 non-null    object \n",
      " 7   special_features  284 non-null    object \n",
      "dtypes: float64(2), int64(2), object(4)\n",
      "memory usage: 17.9+ KB\n"
     ]
    }
   ],
   "source": [
    "data.info()"
   ]
  },
  {
   "cell_type": "code",
   "execution_count": 14,
   "id": "39ff1957",
   "metadata": {},
   "outputs": [],
   "source": [
    "num=data.select_dtypes(np.number)"
   ]
  },
  {
   "cell_type": "code",
   "execution_count": 15,
   "id": "141c0178",
   "metadata": {},
   "outputs": [
    {
     "name": "stderr",
     "output_type": "stream",
     "text": [
      "C:\\Users\\Gladys\\anaconda3\\lib\\site-packages\\seaborn\\_decorators.py:36: FutureWarning: Pass the following variable as a keyword arg: x. From version 0.12, the only valid positional argument will be `data`, and passing other arguments without an explicit keyword will result in an error or misinterpretation.\n",
      "  warnings.warn(\n"
     ]
    },
    {
     "data": {
      "image/png": "[encoded data removed]",
      "text/plain": [
       "<Figure size 640x480 with 1 Axes>"
      ]
     },
     "metadata": {},
     "output_type": "display_data"
    },
    {
     "name": "stderr",
     "output_type": "stream",
     "text": [
      "C:\\Users\\Gladys\\anaconda3\\lib\\site-packages\\seaborn\\_decorators.py:36: FutureWarning: Pass the following variable as a keyword arg: x. From version 0.12, the only valid positional argument will be `data`, and passing other arguments without an explicit keyword will result in an error or misinterpretation.\n",
      "  warnings.warn(\n"
     ]
    },
    {
     "data": {
      "image/png": "[encoded data removed]",
      "text/plain": [
       "<Figure size 640x480 with 1 Axes>"
      ]
     },
     "metadata": {},
     "output_type": "display_data"
    },
    {
     "name": "stderr",
     "output_type": "stream",
     "text": [
      "C:\\Users\\Gladys\\anaconda3\\lib\\site-packages\\seaborn\\_decorators.py:36: FutureWarning: Pass the following variable as a keyword arg: x. From version 0.12, the only valid positional argument will be `data`, and passing other arguments without an explicit keyword will result in an error or misinterpretation.\n",
      "  warnings.warn(\n"
     ]
    },
    {
     "data": {
      "image/png": "[encoded data removed]",
      "text/plain": [
       "<Figure size 640x480 with 1 Axes>"
      ]
     },
     "metadata": {},
     "output_type": "display_data"
    },
    {
     "name": "stderr",
     "output_type": "stream",
     "text": [
      "C:\\Users\\Gladys\\anaconda3\\lib\\site-packages\\seaborn\\_decorators.py:36: FutureWarning: Pass the following variable as a keyword arg: x. From version 0.12, the only valid positional argument will be `data`, and passing other arguments without an explicit keyword will result in an error or misinterpretation.\n",
      "  warnings.warn(\n"
     ]
    },
    {
     "data": {
      "image/png": "[encoded data removed]",
      "text/plain": [
       "<Figure size 640x480 with 1 Axes>"
      ]
     },
     "metadata": {},
     "output_type": "display_data"
    }
   ],
   "source": [
    "for i in num.columns:\n",
    "    sns.boxplot(num[i])\n",
    "    plt.show() #to check for outliers"
   ]
  },
  {
   "cell_type": "code",
   "execution_count": 16,
   "id": "7c339937",
   "metadata": {},
   "outputs": [
    {
     "data": {
      "image/png": "[encoded data removed]",
      "text/plain": [
       "<Figure size 1000x800 with 2 Axes>"
      ]
     },
     "metadata": {},
     "output_type": "display_data"
    }
   ],
   "source": [
    "corr_matrix=data.corr(method='pearson')  # default\n",
    "fig, ax = plt.subplots(figsize=(10, 8))\n",
    "ax = sns.heatmap(corr_matrix, annot=True)\n",
    "plt.show()"
   ]
  },
  {
   "cell_type": "code",
   "execution_count": 17,
   "id": "69cc0ab4",
   "metadata": {},
   "outputs": [],
   "source": [
    "# Normalizing data\n",
    "transformer = Normalizer().fit(num)\n",
    "num_normalized = transformer.transform(num)\n",
    "x = pd.DataFrame(num_normalized, columns=num.columns)"
   ]
  },
  {
   "cell_type": "code",
   "execution_count": 18,
   "id": "42ab262e",
   "metadata": {},
   "outputs": [],
   "source": [
    "transformer = StandardScaler().fit(num)\n",
    "xstandardized=transformer.transform(num)\n",
    "xstandardized=pd.DataFrame(xstandardized)"
   ]
  },
  {
   "cell_type": "code",
   "execution_count": 19,
   "id": "0973a4de",
   "metadata": {},
   "outputs": [
    {
     "name": "stderr",
     "output_type": "stream",
     "text": [
      "C:\\Users\\Gladys\\AppData\\Local\\Temp\\ipykernel_15196\\723970223.py:1: DeprecationWarning: `np.object` is a deprecated alias for the builtin `object`. To silence this warning, use `object` by itself. Doing this will not modify any behavior and is safe. \n",
      "Deprecated in NumPy 1.20; for more details and guidance: https://numpy.org/devdocs/release/1.20.0-notes.html#deprecations\n",
      "  cat = data.select_dtypes(include = np.object)\n"
     ]
    }
   ],
   "source": [
    "cat = data.select_dtypes(include = np.object)\n",
    "cat = cat.drop(['name'], axis=1)\n",
    "cat = cat.drop(['title'], axis=1)\n",
    "categorical = pd.get_dummies(cat, columns=['rating', 'special_features'])"
   ]
  },
  {
   "cell_type": "code",
   "execution_count": 20,
   "id": "adbcb303",
   "metadata": {},
   "outputs": [],
   "source": [
    "y = data['name']\n",
    "X = pd.DataFrame(np.concatenate((xstandardized, categorical), axis=1))"
   ]
  },
  {
   "cell_type": "code",
   "execution_count": 21,
   "id": "47081d5b",
   "metadata": {},
   "outputs": [],
   "source": [
    "#categorical\n",
    "X.columns=x.columns.append(categorical.columns)"
   ]
  },
  {
   "cell_type": "code",
   "execution_count": 22,
   "id": "8dd203aa",
   "metadata": {},
   "outputs": [
    {
     "data": {
      "text/html": [
       "<div>\n",
       "<style scoped>\n",
       "    .dataframe tbody tr th:only-of-type {\n",
       "        vertical-align: middle;\n",
       "    }\n",
       "\n",
       "    .dataframe tbody tr th {\n",
       "        vertical-align: top;\n",
       "    }\n",
       "\n",
       "    .dataframe thead th {\n",
       "        text-align: right;\n",
       "    }\n",
       "</style>\n",
       "<table border=\"1\" class=\"dataframe\">\n",
       "  <thead>\n",
       "    <tr style=\"text-align: right;\">\n",
       "      <th></th>\n",
       "      <th>rental_duration</th>\n",
       "      <th>rental_rate</th>\n",
       "      <th>length</th>\n",
       "      <th>replacement_cost</th>\n",
       "      <th>rating_G</th>\n",
       "      <th>rating_NC-17</th>\n",
       "      <th>rating_PG</th>\n",
       "      <th>rating_PG-13</th>\n",
       "      <th>rating_R</th>\n",
       "      <th>special_features_Behind the Scenes</th>\n",
       "      <th>...</th>\n",
       "      <th>special_features_Deleted Scenes</th>\n",
       "      <th>special_features_Deleted Scenes,Behind the Scenes</th>\n",
       "      <th>special_features_Trailers</th>\n",
       "      <th>special_features_Trailers,Behind the Scenes</th>\n",
       "      <th>special_features_Trailers,Commentaries</th>\n",
       "      <th>special_features_Trailers,Commentaries,Behind the Scenes</th>\n",
       "      <th>special_features_Trailers,Commentaries,Deleted Scenes</th>\n",
       "      <th>special_features_Trailers,Commentaries,Deleted Scenes,Behind the Scenes</th>\n",
       "      <th>special_features_Trailers,Deleted Scenes</th>\n",
       "      <th>special_features_Trailers,Deleted Scenes,Behind the Scenes</th>\n",
       "    </tr>\n",
       "  </thead>\n",
       "  <tbody>\n",
       "    <tr>\n",
       "      <th>0</th>\n",
       "      <td>0.764395</td>\n",
       "      <td>-1.193291</td>\n",
       "      <td>-0.773018</td>\n",
       "      <td>0.234136</td>\n",
       "      <td>0.0</td>\n",
       "      <td>0.0</td>\n",
       "      <td>1.0</td>\n",
       "      <td>0.0</td>\n",
       "      <td>0.0</td>\n",
       "      <td>0.0</td>\n",
       "      <td>...</td>\n",
       "      <td>0.0</td>\n",
       "      <td>1.0</td>\n",
       "      <td>0.0</td>\n",
       "      <td>0.0</td>\n",
       "      <td>0.0</td>\n",
       "      <td>0.0</td>\n",
       "      <td>0.0</td>\n",
       "      <td>0.0</td>\n",
       "      <td>0.0</td>\n",
       "      <td>0.0</td>\n",
       "    </tr>\n",
       "    <tr>\n",
       "      <th>1</th>\n",
       "      <td>1.485619</td>\n",
       "      <td>0.043551</td>\n",
       "      <td>-1.626326</td>\n",
       "      <td>-0.102546</td>\n",
       "      <td>0.0</td>\n",
       "      <td>1.0</td>\n",
       "      <td>0.0</td>\n",
       "      <td>0.0</td>\n",
       "      <td>0.0</td>\n",
       "      <td>0.0</td>\n",
       "      <td>...</td>\n",
       "      <td>0.0</td>\n",
       "      <td>0.0</td>\n",
       "      <td>0.0</td>\n",
       "      <td>0.0</td>\n",
       "      <td>0.0</td>\n",
       "      <td>0.0</td>\n",
       "      <td>0.0</td>\n",
       "      <td>0.0</td>\n",
       "      <td>1.0</td>\n",
       "      <td>0.0</td>\n",
       "    </tr>\n",
       "    <tr>\n",
       "      <th>2</th>\n",
       "      <td>-0.678052</td>\n",
       "      <td>-1.193291</td>\n",
       "      <td>0.696567</td>\n",
       "      <td>0.570819</td>\n",
       "      <td>0.0</td>\n",
       "      <td>0.0</td>\n",
       "      <td>0.0</td>\n",
       "      <td>0.0</td>\n",
       "      <td>1.0</td>\n",
       "      <td>0.0</td>\n",
       "      <td>...</td>\n",
       "      <td>0.0</td>\n",
       "      <td>0.0</td>\n",
       "      <td>0.0</td>\n",
       "      <td>0.0</td>\n",
       "      <td>1.0</td>\n",
       "      <td>0.0</td>\n",
       "      <td>0.0</td>\n",
       "      <td>0.0</td>\n",
       "      <td>0.0</td>\n",
       "      <td>0.0</td>\n",
       "    </tr>\n",
       "    <tr>\n",
       "      <th>3</th>\n",
       "      <td>0.764395</td>\n",
       "      <td>0.043551</td>\n",
       "      <td>0.080290</td>\n",
       "      <td>-0.439228</td>\n",
       "      <td>1.0</td>\n",
       "      <td>0.0</td>\n",
       "      <td>0.0</td>\n",
       "      <td>0.0</td>\n",
       "      <td>0.0</td>\n",
       "      <td>0.0</td>\n",
       "      <td>...</td>\n",
       "      <td>0.0</td>\n",
       "      <td>1.0</td>\n",
       "      <td>0.0</td>\n",
       "      <td>0.0</td>\n",
       "      <td>0.0</td>\n",
       "      <td>0.0</td>\n",
       "      <td>0.0</td>\n",
       "      <td>0.0</td>\n",
       "      <td>0.0</td>\n",
       "      <td>0.0</td>\n",
       "    </tr>\n",
       "    <tr>\n",
       "      <th>4</th>\n",
       "      <td>0.043172</td>\n",
       "      <td>0.043551</td>\n",
       "      <td>-0.298958</td>\n",
       "      <td>0.739160</td>\n",
       "      <td>0.0</td>\n",
       "      <td>1.0</td>\n",
       "      <td>0.0</td>\n",
       "      <td>0.0</td>\n",
       "      <td>0.0</td>\n",
       "      <td>0.0</td>\n",
       "      <td>...</td>\n",
       "      <td>0.0</td>\n",
       "      <td>0.0</td>\n",
       "      <td>0.0</td>\n",
       "      <td>0.0</td>\n",
       "      <td>0.0</td>\n",
       "      <td>0.0</td>\n",
       "      <td>1.0</td>\n",
       "      <td>0.0</td>\n",
       "      <td>0.0</td>\n",
       "      <td>0.0</td>\n",
       "    </tr>\n",
       "    <tr>\n",
       "      <th>...</th>\n",
       "      <td>...</td>\n",
       "      <td>...</td>\n",
       "      <td>...</td>\n",
       "      <td>...</td>\n",
       "      <td>...</td>\n",
       "      <td>...</td>\n",
       "      <td>...</td>\n",
       "      <td>...</td>\n",
       "      <td>...</td>\n",
       "      <td>...</td>\n",
       "      <td>...</td>\n",
       "      <td>...</td>\n",
       "      <td>...</td>\n",
       "      <td>...</td>\n",
       "      <td>...</td>\n",
       "      <td>...</td>\n",
       "      <td>...</td>\n",
       "      <td>...</td>\n",
       "      <td>...</td>\n",
       "      <td>...</td>\n",
       "      <td>...</td>\n",
       "    </tr>\n",
       "    <tr>\n",
       "      <th>279</th>\n",
       "      <td>0.043172</td>\n",
       "      <td>-1.193291</td>\n",
       "      <td>1.265439</td>\n",
       "      <td>-0.775910</td>\n",
       "      <td>0.0</td>\n",
       "      <td>0.0</td>\n",
       "      <td>0.0</td>\n",
       "      <td>0.0</td>\n",
       "      <td>1.0</td>\n",
       "      <td>0.0</td>\n",
       "      <td>...</td>\n",
       "      <td>0.0</td>\n",
       "      <td>0.0</td>\n",
       "      <td>0.0</td>\n",
       "      <td>1.0</td>\n",
       "      <td>0.0</td>\n",
       "      <td>0.0</td>\n",
       "      <td>0.0</td>\n",
       "      <td>0.0</td>\n",
       "      <td>0.0</td>\n",
       "      <td>0.0</td>\n",
       "    </tr>\n",
       "    <tr>\n",
       "      <th>280</th>\n",
       "      <td>-0.678052</td>\n",
       "      <td>1.280393</td>\n",
       "      <td>0.791379</td>\n",
       "      <td>-0.102546</td>\n",
       "      <td>0.0</td>\n",
       "      <td>0.0</td>\n",
       "      <td>0.0</td>\n",
       "      <td>1.0</td>\n",
       "      <td>0.0</td>\n",
       "      <td>0.0</td>\n",
       "      <td>...</td>\n",
       "      <td>1.0</td>\n",
       "      <td>0.0</td>\n",
       "      <td>0.0</td>\n",
       "      <td>0.0</td>\n",
       "      <td>0.0</td>\n",
       "      <td>0.0</td>\n",
       "      <td>0.0</td>\n",
       "      <td>0.0</td>\n",
       "      <td>0.0</td>\n",
       "      <td>0.0</td>\n",
       "    </tr>\n",
       "    <tr>\n",
       "      <th>281</th>\n",
       "      <td>0.764395</td>\n",
       "      <td>1.280393</td>\n",
       "      <td>1.218033</td>\n",
       "      <td>0.570819</td>\n",
       "      <td>0.0</td>\n",
       "      <td>0.0</td>\n",
       "      <td>1.0</td>\n",
       "      <td>0.0</td>\n",
       "      <td>0.0</td>\n",
       "      <td>0.0</td>\n",
       "      <td>...</td>\n",
       "      <td>0.0</td>\n",
       "      <td>0.0</td>\n",
       "      <td>0.0</td>\n",
       "      <td>0.0</td>\n",
       "      <td>0.0</td>\n",
       "      <td>0.0</td>\n",
       "      <td>0.0</td>\n",
       "      <td>0.0</td>\n",
       "      <td>0.0</td>\n",
       "      <td>1.0</td>\n",
       "    </tr>\n",
       "    <tr>\n",
       "      <th>282</th>\n",
       "      <td>-1.399275</td>\n",
       "      <td>0.043551</td>\n",
       "      <td>0.791379</td>\n",
       "      <td>0.907501</td>\n",
       "      <td>0.0</td>\n",
       "      <td>0.0</td>\n",
       "      <td>0.0</td>\n",
       "      <td>0.0</td>\n",
       "      <td>1.0</td>\n",
       "      <td>0.0</td>\n",
       "      <td>...</td>\n",
       "      <td>0.0</td>\n",
       "      <td>0.0</td>\n",
       "      <td>0.0</td>\n",
       "      <td>0.0</td>\n",
       "      <td>0.0</td>\n",
       "      <td>0.0</td>\n",
       "      <td>0.0</td>\n",
       "      <td>0.0</td>\n",
       "      <td>0.0</td>\n",
       "      <td>0.0</td>\n",
       "    </tr>\n",
       "    <tr>\n",
       "      <th>283</th>\n",
       "      <td>0.764395</td>\n",
       "      <td>-1.193291</td>\n",
       "      <td>-1.294484</td>\n",
       "      <td>0.065795</td>\n",
       "      <td>0.0</td>\n",
       "      <td>0.0</td>\n",
       "      <td>0.0</td>\n",
       "      <td>1.0</td>\n",
       "      <td>0.0</td>\n",
       "      <td>0.0</td>\n",
       "      <td>...</td>\n",
       "      <td>0.0</td>\n",
       "      <td>0.0</td>\n",
       "      <td>0.0</td>\n",
       "      <td>1.0</td>\n",
       "      <td>0.0</td>\n",
       "      <td>0.0</td>\n",
       "      <td>0.0</td>\n",
       "      <td>0.0</td>\n",
       "      <td>0.0</td>\n",
       "      <td>0.0</td>\n",
       "    </tr>\n",
       "  </tbody>\n",
       "</table>\n",
       "<p>284 rows × 24 columns</p>\n",
       "</div>"
      ],
      "text/plain": [
       "     rental_duration  rental_rate    length  replacement_cost  rating_G  \\\n",
       "0           0.764395    -1.193291 -0.773018          0.234136       0.0   \n",
       "1           1.485619     0.043551 -1.626326         -0.102546       0.0   \n",
       "2          -0.678052    -1.193291  0.696567          0.570819       0.0   \n",
       "3           0.764395     0.043551  0.080290         -0.439228       1.0   \n",
       "4           0.043172     0.043551 -0.298958          0.739160       0.0   \n",
       "..               ...          ...       ...               ...       ...   \n",
       "279         0.043172    -1.193291  1.265439         -0.775910       0.0   \n",
       "280        -0.678052     1.280393  0.791379         -0.102546       0.0   \n",
       "281         0.764395     1.280393  1.218033          0.570819       0.0   \n",
       "282        -1.399275     0.043551  0.791379          0.907501       0.0   \n",
       "283         0.764395    -1.193291 -1.294484          0.065795       0.0   \n",
       "\n",
       "     rating_NC-17  rating_PG  rating_PG-13  rating_R  \\\n",
       "0             0.0        1.0           0.0       0.0   \n",
       "1             1.0        0.0           0.0       0.0   \n",
       "2             0.0        0.0           0.0       1.0   \n",
       "3             0.0        0.0           0.0       0.0   \n",
       "4             1.0        0.0           0.0       0.0   \n",
       "..            ...        ...           ...       ...   \n",
       "279           0.0        0.0           0.0       1.0   \n",
       "280           0.0        0.0           1.0       0.0   \n",
       "281           0.0        1.0           0.0       0.0   \n",
       "282           0.0        0.0           0.0       1.0   \n",
       "283           0.0        0.0           1.0       0.0   \n",
       "\n",
       "     special_features_Behind the Scenes  ...  special_features_Deleted Scenes  \\\n",
       "0                                   0.0  ...                              0.0   \n",
       "1                                   0.0  ...                              0.0   \n",
       "2                                   0.0  ...                              0.0   \n",
       "3                                   0.0  ...                              0.0   \n",
       "4                                   0.0  ...                              0.0   \n",
       "..                                  ...  ...                              ...   \n",
       "279                                 0.0  ...                              0.0   \n",
       "280                                 0.0  ...                              1.0   \n",
       "281                                 0.0  ...                              0.0   \n",
       "282                                 0.0  ...                              0.0   \n",
       "283                                 0.0  ...                              0.0   \n",
       "\n",
       "     special_features_Deleted Scenes,Behind the Scenes  \\\n",
       "0                                                  1.0   \n",
       "1                                                  0.0   \n",
       "2                                                  0.0   \n",
       "3                                                  1.0   \n",
       "4                                                  0.0   \n",
       "..                                                 ...   \n",
       "279                                                0.0   \n",
       "280                                                0.0   \n",
       "281                                                0.0   \n",
       "282                                                0.0   \n",
       "283                                                0.0   \n",
       "\n",
       "     special_features_Trailers  special_features_Trailers,Behind the Scenes  \\\n",
       "0                          0.0                                          0.0   \n",
       "1                          0.0                                          0.0   \n",
       "2                          0.0                                          0.0   \n",
       "3                          0.0                                          0.0   \n",
       "4                          0.0                                          0.0   \n",
       "..                         ...                                          ...   \n",
       "279                        0.0                                          1.0   \n",
       "280                        0.0                                          0.0   \n",
       "281                        0.0                                          0.0   \n",
       "282                        0.0                                          0.0   \n",
       "283                        0.0                                          1.0   \n",
       "\n",
       "     special_features_Trailers,Commentaries  \\\n",
       "0                                       0.0   \n",
       "1                                       0.0   \n",
       "2                                       1.0   \n",
       "3                                       0.0   \n",
       "4                                       0.0   \n",
       "..                                      ...   \n",
       "279                                     0.0   \n",
       "280                                     0.0   \n",
       "281                                     0.0   \n",
       "282                                     0.0   \n",
       "283                                     0.0   \n",
       "\n",
       "     special_features_Trailers,Commentaries,Behind the Scenes  \\\n",
       "0                                                  0.0          \n",
       "1                                                  0.0          \n",
       "2                                                  0.0          \n",
       "3                                                  0.0          \n",
       "4                                                  0.0          \n",
       "..                                                 ...          \n",
       "279                                                0.0          \n",
       "280                                                0.0          \n",
       "281                                                0.0          \n",
       "282                                                0.0          \n",
       "283                                                0.0          \n",
       "\n",
       "     special_features_Trailers,Commentaries,Deleted Scenes  \\\n",
       "0                                                  0.0       \n",
       "1                                                  0.0       \n",
       "2                                                  0.0       \n",
       "3                                                  0.0       \n",
       "4                                                  1.0       \n",
       "..                                                 ...       \n",
       "279                                                0.0       \n",
       "280                                                0.0       \n",
       "281                                                0.0       \n",
       "282                                                0.0       \n",
       "283                                                0.0       \n",
       "\n",
       "     special_features_Trailers,Commentaries,Deleted Scenes,Behind the Scenes  \\\n",
       "0                                                  0.0                         \n",
       "1                                                  0.0                         \n",
       "2                                                  0.0                         \n",
       "3                                                  0.0                         \n",
       "4                                                  0.0                         \n",
       "..                                                 ...                         \n",
       "279                                                0.0                         \n",
       "280                                                0.0                         \n",
       "281                                                0.0                         \n",
       "282                                                0.0                         \n",
       "283                                                0.0                         \n",
       "\n",
       "     special_features_Trailers,Deleted Scenes  \\\n",
       "0                                         0.0   \n",
       "1                                         1.0   \n",
       "2                                         0.0   \n",
       "3                                         0.0   \n",
       "4                                         0.0   \n",
       "..                                        ...   \n",
       "279                                       0.0   \n",
       "280                                       0.0   \n",
       "281                                       0.0   \n",
       "282                                       0.0   \n",
       "283                                       0.0   \n",
       "\n",
       "     special_features_Trailers,Deleted Scenes,Behind the Scenes  \n",
       "0                                                  0.0           \n",
       "1                                                  0.0           \n",
       "2                                                  0.0           \n",
       "3                                                  0.0           \n",
       "4                                                  0.0           \n",
       "..                                                 ...           \n",
       "279                                                0.0           \n",
       "280                                                0.0           \n",
       "281                                                1.0           \n",
       "282                                                0.0           \n",
       "283                                                0.0           \n",
       "\n",
       "[284 rows x 24 columns]"
      ]
     },
     "execution_count": 22,
     "metadata": {},
     "output_type": "execute_result"
    }
   ],
   "source": [
    "X"
   ]
  },
  {
   "cell_type": "code",
   "execution_count": 23,
   "id": "1885feae",
   "metadata": {},
   "outputs": [],
   "source": [
    "from sklearn.model_selection import train_test_split\n",
    "X_train, X_test, y_train, y_test = train_test_split(X, y, test_size=0.2, random_state=100)"
   ]
  },
  {
   "cell_type": "code",
   "execution_count": 24,
   "id": "53fd2408",
   "metadata": {},
   "outputs": [],
   "source": [
    "from sklearn.linear_model import LogisticRegression\n",
    "classification = LogisticRegression(random_state=0, solver='lbfgs',\n",
    "                  multi_class='multinomial').fit(X_train, y_train)"
   ]
  },
  {
   "cell_type": "code",
   "execution_count": 25,
   "id": "83a53e0c",
   "metadata": {},
   "outputs": [
    {
     "data": {
      "text/plain": [
       "0.22807017543859648"
      ]
     },
     "execution_count": 25,
     "metadata": {},
     "output_type": "execute_result"
    }
   ],
   "source": [
    "classification.score(X_test, y_test)"
   ]
  },
  {
   "cell_type": "code",
   "execution_count": 26,
   "id": "ff61a81b",
   "metadata": {},
   "outputs": [
    {
     "data": {
      "text/plain": [
       "0.22807017543859648"
      ]
     },
     "execution_count": 26,
     "metadata": {},
     "output_type": "execute_result"
    }
   ],
   "source": [
    "predictions = classification.predict(X_test)\n",
    "classification.score(X_test, y_test)"
   ]
  },
  {
   "cell_type": "code",
   "execution_count": 27,
   "id": "64430246",
   "metadata": {},
   "outputs": [
    {
     "data": {
      "text/plain": [
       "0.22807017543859648"
      ]
     },
     "execution_count": 27,
     "metadata": {},
     "output_type": "execute_result"
    }
   ],
   "source": [
    "accuracy_score(y_test, predictions)"
   ]
  },
  {
   "cell_type": "code",
   "execution_count": 28,
   "id": "3b892620",
   "metadata": {},
   "outputs": [
    {
     "data": {
      "text/plain": [
       "Documentary    21\n",
       "Foreign        19\n",
       "Sports          9\n",
       "Family          8\n",
       "dtype: int64"
      ]
     },
     "execution_count": 28,
     "metadata": {},
     "output_type": "execute_result"
    }
   ],
   "source": [
    "pd.Series(predictions).value_counts()"
   ]
  },
  {
   "cell_type": "code",
   "execution_count": 29,
   "id": "8fd3955e",
   "metadata": {},
   "outputs": [
    {
     "data": {
      "text/plain": [
       "179        Foreign\n",
       "132         Family\n",
       "234         Sports\n",
       "69          Family\n",
       "191        Foreign\n",
       "154        Foreign\n",
       "216         Sports\n",
       "64     Documentary\n",
       "177        Foreign\n",
       "268         Sports\n",
       "250         Sports\n",
       "281         Sports\n",
       "60     Documentary\n",
       "189        Foreign\n",
       "255         Sports\n",
       "269         Sports\n",
       "243         Sports\n",
       "260         Sports\n",
       "220         Sports\n",
       "117         Family\n",
       "59     Documentary\n",
       "161        Foreign\n",
       "201        Foreign\n",
       "197        Foreign\n",
       "128         Family\n",
       "110         Family\n",
       "99          Family\n",
       "46     Documentary\n",
       "41     Documentary\n",
       "224         Sports\n",
       "249         Sports\n",
       "1      Documentary\n",
       "23     Documentary\n",
       "253         Sports\n",
       "108         Family\n",
       "159        Foreign\n",
       "98          Family\n",
       "171        Foreign\n",
       "144        Foreign\n",
       "246         Sports\n",
       "103         Family\n",
       "182        Foreign\n",
       "262         Sports\n",
       "232         Sports\n",
       "40     Documentary\n",
       "112         Family\n",
       "32     Documentary\n",
       "239         Sports\n",
       "75          Family\n",
       "124         Family\n",
       "85          Family\n",
       "136         Family\n",
       "186        Foreign\n",
       "276         Sports\n",
       "7      Documentary\n",
       "19     Documentary\n",
       "264         Sports\n",
       "Name: name, dtype: object"
      ]
     },
     "execution_count": 29,
     "metadata": {},
     "output_type": "execute_result"
    }
   ],
   "source": [
    "y_test"
   ]
  },
  {
   "cell_type": "code",
   "execution_count": 30,
   "id": "7e65fa08",
   "metadata": {},
   "outputs": [
    {
     "data": {
      "text/plain": [
       "array(['Foreign', 'Family', 'Foreign', 'Sports', 'Documentary', 'Foreign',\n",
       "       'Documentary', 'Documentary', 'Documentary', 'Foreign'],\n",
       "      dtype=object)"
      ]
     },
     "execution_count": 30,
     "metadata": {},
     "output_type": "execute_result"
    }
   ],
   "source": [
    "predictions[:10]"
   ]
  },
  {
   "cell_type": "code",
   "execution_count": 32,
   "id": "248c8f28",
   "metadata": {},
   "outputs": [
    {
     "name": "stdout",
     "output_type": "stream",
     "text": [
      "[[4 2 3 2]\n",
      " [4 2 5 3]\n",
      " [7 1 4 1]\n",
      " [6 3 7 3]]\n"
     ]
    },
    {
     "name": "stderr",
     "output_type": "stream",
     "text": [
      "C:\\Users\\Gladys\\anaconda3\\lib\\site-packages\\sklearn\\utils\\deprecation.py:87: FutureWarning: Function plot_confusion_matrix is deprecated; Function `plot_confusion_matrix` is deprecated in 1.0 and will be removed in 1.2. Use one of the class methods: ConfusionMatrixDisplay.from_predictions or ConfusionMatrixDisplay.from_estimator.\n",
      "  warnings.warn(msg, category=FutureWarning)\n"
     ]
    },
    {
     "data": {
      "image/png": "[encoded data removed]",
      "text/plain": [
       "<Figure size 640x480 with 2 Axes>"
      ]
     },
     "metadata": {},
     "output_type": "display_data"
    }
   ],
   "source": [
    "#got A LOT if not all help from stack overflow\n",
    "from sklearn.metrics import plot_confusion_matrix\n",
    "print(confusion_matrix(y_test, predictions))\n",
    "plot_confusion_matrix(classification, X_test, y_test)  \n",
    "plt.show() "
   ]
  },
  {
   "cell_type": "code",
   "execution_count": 33,
   "id": "2d14e4ae",
   "metadata": {},
   "outputs": [
    {
     "data": {
      "text/plain": [
       "array([[0.2656871 , 0.21395258, 0.31415658, 0.20620374],\n",
       "       [0.30865594, 0.32661369, 0.16957462, 0.19515574],\n",
       "       [0.21508545, 0.24762229, 0.27979481, 0.25749745],\n",
       "       [0.25476595, 0.21244337, 0.19953313, 0.33325755],\n",
       "       [0.33344139, 0.28863532, 0.22123868, 0.15668461],\n",
       "       [0.12112747, 0.07858267, 0.51924902, 0.28104084],\n",
       "       [0.34624786, 0.20020143, 0.13612208, 0.31742862],\n",
       "       [0.40110235, 0.26139799, 0.16649081, 0.17100885],\n",
       "       [0.49195033, 0.14880796, 0.22723912, 0.13200258],\n",
       "       [0.21972935, 0.16854378, 0.3152249 , 0.29650197],\n",
       "       [0.21340011, 0.08674627, 0.53900816, 0.16084546],\n",
       "       [0.05638488, 0.53496583, 0.18062427, 0.22802501],\n",
       "       [0.20066785, 0.24515098, 0.28968898, 0.26449219],\n",
       "       [0.05560184, 0.42446991, 0.21725241, 0.30267584],\n",
       "       [0.26586804, 0.42772666, 0.18220204, 0.12420325],\n",
       "       [0.26974078, 0.12821936, 0.36317993, 0.23885992],\n",
       "       [0.4316489 , 0.14788286, 0.11214234, 0.30832589],\n",
       "       [0.09691909, 0.15954925, 0.44722828, 0.29630338],\n",
       "       [0.49959222, 0.18040559, 0.06736948, 0.25263271],\n",
       "       [0.34904065, 0.25520928, 0.23052031, 0.16522976],\n",
       "       [0.1864828 , 0.3514178 , 0.26987106, 0.19222833],\n",
       "       [0.54589366, 0.17464577, 0.21602193, 0.06343863],\n",
       "       [0.20597122, 0.15329348, 0.51043798, 0.13029732],\n",
       "       [0.35786987, 0.17810328, 0.22823148, 0.23579538],\n",
       "       [0.34032575, 0.22877177, 0.16190636, 0.26899612],\n",
       "       [0.03689034, 0.28194619, 0.60606375, 0.07509972],\n",
       "       [0.20766722, 0.46065389, 0.19191967, 0.13975922],\n",
       "       [0.22684113, 0.1005116 , 0.18760116, 0.48504611],\n",
       "       [0.1912458 , 0.26177438, 0.18348882, 0.363491  ],\n",
       "       [0.07485314, 0.19166007, 0.51250055, 0.22098625],\n",
       "       [0.29805173, 0.09102252, 0.10425324, 0.50667251],\n",
       "       [0.18618342, 0.48659896, 0.22799361, 0.09922401],\n",
       "       [0.26589317, 0.18976744, 0.28315779, 0.26118161],\n",
       "       [0.50194775, 0.20753271, 0.09141849, 0.19910104],\n",
       "       [0.16182024, 0.25612901, 0.30268952, 0.27936123],\n",
       "       [0.42669472, 0.17356912, 0.16281679, 0.23691937],\n",
       "       [0.18738738, 0.24730246, 0.33652004, 0.22879012],\n",
       "       [0.0615787 , 0.33200539, 0.13724926, 0.46916665],\n",
       "       [0.30629826, 0.20612594, 0.32122553, 0.16635027],\n",
       "       [0.47012095, 0.145695  , 0.26914056, 0.11504348],\n",
       "       [0.10834999, 0.18352514, 0.266593  , 0.44153187],\n",
       "       [0.28887214, 0.21933848, 0.20585095, 0.28593844],\n",
       "       [0.24396301, 0.18971048, 0.19621725, 0.37010926],\n",
       "       [0.41781979, 0.3123731 , 0.13521054, 0.13459657],\n",
       "       [0.31565644, 0.20477484, 0.1864284 , 0.29314033],\n",
       "       [0.32694971, 0.21625887, 0.18377693, 0.2730145 ],\n",
       "       [0.25543529, 0.26906798, 0.27005596, 0.20544077],\n",
       "       [0.03851348, 0.24684544, 0.55218033, 0.16246075],\n",
       "       [0.19411662, 0.23992162, 0.3814883 , 0.18447347],\n",
       "       [0.71096972, 0.15312254, 0.08500496, 0.05090279],\n",
       "       [0.28425577, 0.20709311, 0.21540967, 0.29324145],\n",
       "       [0.03650277, 0.24835625, 0.59909526, 0.11604572],\n",
       "       [0.45701193, 0.34122524, 0.10849016, 0.09327267],\n",
       "       [0.23818855, 0.33120981, 0.24216749, 0.18843414],\n",
       "       [0.53761967, 0.24176982, 0.06975047, 0.15086004],\n",
       "       [0.43368408, 0.23424554, 0.14315691, 0.18891348],\n",
       "       [0.16517316, 0.12985834, 0.24141474, 0.46355377]])"
      ]
     },
     "execution_count": 33,
     "metadata": {},
     "output_type": "execute_result"
    }
   ],
   "source": [
    "classification.predict_proba(X_test)"
   ]
  },
  {
   "cell_type": "code",
   "execution_count": 34,
   "id": "914794bf",
   "metadata": {},
   "outputs": [
    {
     "data": {
      "text/plain": [
       "array([0.2656871 , 0.30865594, 0.21508545, 0.25476595, 0.33344139,\n",
       "       0.12112747, 0.34624786, 0.40110235, 0.49195033, 0.21972935,\n",
       "       0.21340011, 0.05638488, 0.20066785, 0.05560184, 0.26586804,\n",
       "       0.26974078, 0.4316489 , 0.09691909, 0.49959222, 0.34904065,\n",
       "       0.1864828 , 0.54589366, 0.20597122, 0.35786987, 0.34032575,\n",
       "       0.03689034, 0.20766722, 0.22684113, 0.1912458 , 0.07485314,\n",
       "       0.29805173, 0.18618342, 0.26589317, 0.50194775, 0.16182024,\n",
       "       0.42669472, 0.18738738, 0.0615787 , 0.30629826, 0.47012095,\n",
       "       0.10834999, 0.28887214, 0.24396301, 0.41781979, 0.31565644,\n",
       "       0.32694971, 0.25543529, 0.03851348, 0.19411662, 0.71096972,\n",
       "       0.28425577, 0.03650277, 0.45701193, 0.23818855, 0.53761967,\n",
       "       0.43368408, 0.16517316])"
      ]
     },
     "execution_count": 34,
     "metadata": {},
     "output_type": "execute_result"
    }
   ],
   "source": [
    "classification.predict_proba(X_test)[::,0]"
   ]
  },
  {
   "cell_type": "code",
   "execution_count": null,
   "id": "5271374b",
   "metadata": {},
   "outputs": [],
   "source": []
  }
 ],
 "metadata": {
  "kernelspec": {
   "display_name": "Python 3 (ipykernel)",
   "language": "python",
   "name": "python3"
  },
  "language_info": {
   "codemirror_mode": {
    "name": "ipython",
    "version": 3
   },
   "file_extension": ".py",
   "mimetype": "text/x-python",
   "name": "python",
   "nbconvert_exporter": "python",
   "pygments_lexer": "ipython3",
   "version": "3.9.13"
  }
 },
 "nbformat": 4,
 "nbformat_minor": 5
}
